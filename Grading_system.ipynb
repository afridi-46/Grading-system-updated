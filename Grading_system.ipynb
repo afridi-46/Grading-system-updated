{
  "nbformat": 4,
  "nbformat_minor": 0,
  "metadata": {
    "colab": {
      "provenance": []
    },
    "kernelspec": {
      "name": "python3",
      "display_name": "Python 3"
    },
    "language_info": {
      "name": "python"
    }
  },
  "cells": [
    {
      "cell_type": "code",
      "execution_count": 1,
      "metadata": {
        "id": "KoJqIFXxSCBo",
        "colab": {
          "base_uri": "https://localhost:8080/"
        },
        "outputId": "c1e1705d-b521-4366-96df-88873898e65d"
      },
      "outputs": [
        {
          "output_type": "stream",
          "name": "stdout",
          "text": [
            "Enter your grade78\n",
            "A\n"
          ]
        }
      ],
      "source": [
        "try:\n",
        "    grade = float(input(\"Enter your grade\"))\n",
        "except ValueError:\n",
        "  print(\"Invalid input.Please enter a numeric value.\")\n",
        "  exist()\n",
        "if grade >= 80:\n",
        "  print(\"A+\")\n",
        "elif grade >=70:\n",
        "  print(\"A\")\n",
        "elif grade >=60:\n",
        "  print(\"A-\")\n",
        "elif grade >=50:\n",
        "  print(\"B\")\n",
        "elif grade >=40:\n",
        "  print(\"C\")\n",
        "elif grade >=33:\n",
        "  print(\"D\")\n",
        "else:\n",
        "  print(\"Fail\")"
      ]
    }
  ]
}